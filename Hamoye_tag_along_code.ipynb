{
 "cells": [
  {
   "cell_type": "code",
   "execution_count": 1,
   "id": "f33de99f",
   "metadata": {},
   "outputs": [],
   "source": [
    "import pandas as pd"
   ]
  },
  {
   "cell_type": "code",
   "execution_count": 2,
   "id": "d6a89d34",
   "metadata": {},
   "outputs": [
    {
     "data": {
      "text/html": [
       "<div>\n",
       "<style scoped>\n",
       "    .dataframe tbody tr th:only-of-type {\n",
       "        vertical-align: middle;\n",
       "    }\n",
       "\n",
       "    .dataframe tbody tr th {\n",
       "        vertical-align: top;\n",
       "    }\n",
       "\n",
       "    .dataframe thead th {\n",
       "        text-align: right;\n",
       "    }\n",
       "</style>\n",
       "<table border=\"1\" class=\"dataframe\">\n",
       "  <thead>\n",
       "    <tr style=\"text-align: right;\">\n",
       "      <th></th>\n",
       "      <th>Area Code</th>\n",
       "      <th>Area</th>\n",
       "      <th>Item Code</th>\n",
       "      <th>Item</th>\n",
       "      <th>Element Code</th>\n",
       "      <th>Element</th>\n",
       "      <th>Unit</th>\n",
       "      <th>Y2014</th>\n",
       "      <th>Y2015</th>\n",
       "      <th>Y2016</th>\n",
       "      <th>Y2017</th>\n",
       "      <th>Y2018</th>\n",
       "    </tr>\n",
       "  </thead>\n",
       "  <tbody>\n",
       "    <tr>\n",
       "      <th>0</th>\n",
       "      <td>4</td>\n",
       "      <td>Algeria</td>\n",
       "      <td>2501</td>\n",
       "      <td>Population</td>\n",
       "      <td>511</td>\n",
       "      <td>Total Population - Both sexes</td>\n",
       "      <td>1000 persons</td>\n",
       "      <td>38924.00</td>\n",
       "      <td>39728.00</td>\n",
       "      <td>40551.00</td>\n",
       "      <td>41389.00</td>\n",
       "      <td>42228.00</td>\n",
       "    </tr>\n",
       "    <tr>\n",
       "      <th>1</th>\n",
       "      <td>4</td>\n",
       "      <td>Algeria</td>\n",
       "      <td>2501</td>\n",
       "      <td>Population</td>\n",
       "      <td>5301</td>\n",
       "      <td>Domestic supply quantity</td>\n",
       "      <td>1000 tonnes</td>\n",
       "      <td>0.00</td>\n",
       "      <td>0.00</td>\n",
       "      <td>0.00</td>\n",
       "      <td>0.00</td>\n",
       "      <td>0.00</td>\n",
       "    </tr>\n",
       "    <tr>\n",
       "      <th>2</th>\n",
       "      <td>4</td>\n",
       "      <td>Algeria</td>\n",
       "      <td>2901</td>\n",
       "      <td>Grand Total</td>\n",
       "      <td>664</td>\n",
       "      <td>Food supply (kcal/capita/day)</td>\n",
       "      <td>kcal/capita/day</td>\n",
       "      <td>3377.00</td>\n",
       "      <td>3379.00</td>\n",
       "      <td>3372.00</td>\n",
       "      <td>3341.00</td>\n",
       "      <td>3322.00</td>\n",
       "    </tr>\n",
       "    <tr>\n",
       "      <th>3</th>\n",
       "      <td>4</td>\n",
       "      <td>Algeria</td>\n",
       "      <td>2901</td>\n",
       "      <td>Grand Total</td>\n",
       "      <td>674</td>\n",
       "      <td>Protein supply quantity (g/capita/day)</td>\n",
       "      <td>g/capita/day</td>\n",
       "      <td>94.90</td>\n",
       "      <td>94.35</td>\n",
       "      <td>94.72</td>\n",
       "      <td>92.82</td>\n",
       "      <td>91.83</td>\n",
       "    </tr>\n",
       "    <tr>\n",
       "      <th>4</th>\n",
       "      <td>4</td>\n",
       "      <td>Algeria</td>\n",
       "      <td>2901</td>\n",
       "      <td>Grand Total</td>\n",
       "      <td>684</td>\n",
       "      <td>Fat supply quantity (g/capita/day)</td>\n",
       "      <td>g/capita/day</td>\n",
       "      <td>80.06</td>\n",
       "      <td>79.36</td>\n",
       "      <td>77.40</td>\n",
       "      <td>80.19</td>\n",
       "      <td>77.28</td>\n",
       "    </tr>\n",
       "  </tbody>\n",
       "</table>\n",
       "</div>"
      ],
      "text/plain": [
       "   Area Code     Area  Item Code         Item  Element Code  \\\n",
       "0          4  Algeria       2501   Population           511   \n",
       "1          4  Algeria       2501   Population          5301   \n",
       "2          4  Algeria       2901  Grand Total           664   \n",
       "3          4  Algeria       2901  Grand Total           674   \n",
       "4          4  Algeria       2901  Grand Total           684   \n",
       "\n",
       "                                  Element             Unit     Y2014  \\\n",
       "0           Total Population - Both sexes     1000 persons  38924.00   \n",
       "1                Domestic supply quantity      1000 tonnes      0.00   \n",
       "2           Food supply (kcal/capita/day)  kcal/capita/day   3377.00   \n",
       "3  Protein supply quantity (g/capita/day)     g/capita/day     94.90   \n",
       "4      Fat supply quantity (g/capita/day)     g/capita/day     80.06   \n",
       "\n",
       "      Y2015     Y2016     Y2017     Y2018  \n",
       "0  39728.00  40551.00  41389.00  42228.00  \n",
       "1      0.00      0.00      0.00      0.00  \n",
       "2   3379.00   3372.00   3341.00   3322.00  \n",
       "3     94.35     94.72     92.82     91.83  \n",
       "4     79.36     77.40     80.19     77.28  "
      ]
     },
     "execution_count": 2,
     "metadata": {},
     "output_type": "execute_result"
    }
   ],
   "source": [
    "df = pd.read_csv(r\"C:\\Users\\OLANREWAJU\\OneDrive\\Desktop\\data\\FoodBalanceSheets_E_Africa_NOFLAG.csv\", encoding = \"latin-1\")\n",
    "df.head()"
   ]
  },
  {
   "cell_type": "markdown",
   "id": "f9ccc1b9",
   "metadata": {},
   "source": [
    "# What is the total sum of Wine produced in 2015 and 2018 respectively?\n"
   ]
  },
  {
   "cell_type": "code",
   "execution_count": 3,
   "id": "e72bf179",
   "metadata": {},
   "outputs": [
    {
     "name": "stdout",
     "output_type": "stream",
     "text": [
      "The total sum of Wine produced in 2015 is 4251.81\n",
      "The total sum of Wine produced in 2018 is 4039.32\n"
     ]
    }
   ],
   "source": [
    "wine_grouped = df[df['Item'] == 'Wine'].groupby('Item')[['Y2015', 'Y2018']].sum()\n",
    "\n",
    "\n",
    "wine_2015_grouped = wine_grouped.loc['Wine', 'Y2015']\n",
    "wine_2018_grouped = wine_grouped.loc['Wine', 'Y2018']\n",
    "\n",
    "print(f\"The total sum of Wine produced in 2015 is {wine_2015_grouped}\")\n",
    "print(f\"The total sum of Wine produced in 2018 is {wine_2018_grouped}\")"
   ]
  },
  {
   "cell_type": "markdown",
   "id": "791702bd",
   "metadata": {},
   "source": [
    "# What is the mean and standard deviation across the whole dataset for the year 2017 to 2 decimal places?"
   ]
  },
  {
   "cell_type": "code",
   "execution_count": 4,
   "id": "167fb591",
   "metadata": {},
   "outputs": [
    {
     "name": "stdout",
     "output_type": "stream",
     "text": [
      "The mean is 140.917764860268 and the std is 1671.8623590572788\n"
     ]
    }
   ],
   "source": [
    "mean_value = df[\"Y2017\"].mean()\n",
    "std_value = df[\"Y2017\"].std()\n",
    "print(f\"The mean is {mean_value} and the std is {std_value}\")"
   ]
  },
  {
   "cell_type": "markdown",
   "id": "b21e7bd6",
   "metadata": {},
   "source": [
    "# Select columns ‘Y2017’ and ‘Area’, Perform a groupby operation on ‘Area’.  Which of these Areas had the highest sum in 2017?"
   ]
  },
  {
   "cell_type": "code",
   "execution_count": 5,
   "id": "0ad2cef1",
   "metadata": {},
   "outputs": [
    {
     "name": "stdout",
     "output_type": "stream",
     "text": [
      "The area corresponding to the highest sum is Nigeria\n"
     ]
    }
   ],
   "source": [
    "highest_sum_area = df.groupby([\"Area\"])[\"Y2017\"].sum().idxmax()\n",
    "print(f\"The area corresponding to the highest sum is {highest_sum_area}\")"
   ]
  },
  {
   "cell_type": "markdown",
   "id": "0c89e233",
   "metadata": {},
   "source": [
    "# Which year had the least correlation with ‘Element Code’?"
   ]
  },
  {
   "cell_type": "code",
   "execution_count": 6,
   "id": "545454ef",
   "metadata": {},
   "outputs": [
    {
     "name": "stdout",
     "output_type": "stream",
     "text": [
      "The year with the least correlation with 'Element Code' is Y2016 with a correlation coefficient of 0.023443997584961344\n"
     ]
    }
   ],
   "source": [
    "correlations = {}\n",
    "for year in ['Y2014', 'Y2015', 'Y2016', 'Y2017', 'Y2018']:\n",
    "    correlation = df['Element Code'].corr(df[year])\n",
    "    correlations[year] = correlation\n",
    "\n",
    "\n",
    "least_correlated_year = min(correlations, key=correlations.get)\n",
    "print(f\"The year with the least correlation with 'Element Code' is {least_correlated_year} with a correlation coefficient of {correlations[least_correlated_year]}\")"
   ]
  },
  {
   "cell_type": "markdown",
   "id": "9083af01",
   "metadata": {},
   "source": [
    "# What is the total number of unique countries in the dataset?"
   ]
  },
  {
   "cell_type": "code",
   "execution_count": 7,
   "id": "aefbab96",
   "metadata": {},
   "outputs": [
    {
     "name": "stdout",
     "output_type": "stream",
     "text": [
      "The total number of unique countries in the dataset is 49\n"
     ]
    }
   ],
   "source": [
    "total_unique_countries = df['Area'].nunique()\n",
    "print(f\"The total number of unique countries in the dataset is {total_unique_countries}\")"
   ]
  },
  {
   "cell_type": "markdown",
   "id": "b29ec93e",
   "metadata": {},
   "source": [
    "# What is the total number and percentage of missing data in 2014 to 3 decimal places?"
   ]
  },
  {
   "cell_type": "code",
   "execution_count": 8,
   "id": "6874e7e1",
   "metadata": {},
   "outputs": [
    {
     "name": "stdout",
     "output_type": "stream",
     "text": [
      "Total missing data in 2014 is: 1589\n",
      "Percentage of missing data in 2014 is: 2.607%\n"
     ]
    }
   ],
   "source": [
    "total_missing_2014 = df['Y2014'].isnull().sum()\n",
    "\n",
    "total_rows = len(df)\n",
    "\n",
    "percentage_missing_2014 = (total_missing_2014 / total_rows) * 100\n",
    "\n",
    "print(f\"Total missing data in 2014 is: {total_missing_2014}\")\n",
    "print(f\"Percentage of missing data in 2014 is: {percentage_missing_2014:.3f}%\")"
   ]
  },
  {
   "cell_type": "markdown",
   "id": "938a9554",
   "metadata": {},
   "source": [
    "# Perform a groupby operation on ‘Element’.  What year has the highest sum of Stock Variation?"
   ]
  },
  {
   "cell_type": "code",
   "execution_count": 9,
   "id": "433d4f35",
   "metadata": {},
   "outputs": [
    {
     "name": "stdout",
     "output_type": "stream",
     "text": [
      "The year with the highest sum of Stock Variation is Y2014\n"
     ]
    }
   ],
   "source": [
    "grouped_element_by_stock_variation = df[df['Element'] == 'Stock Variation'].groupby('Element')[['Y2014', 'Y2015', 'Y2016', 'Y2017', 'Y2018']].sum()\n",
    "\n",
    "highest_sum_year_stock_variation = grouped_element_by_stock_variation.idxmax(axis=1)[0]\n",
    "\n",
    "print(f\"The year with the highest sum of Stock Variation is {highest_sum_year_stock_variation}\")"
   ]
  },
  {
   "cell_type": "markdown",
   "id": "799c686c",
   "metadata": {},
   "source": [
    "# What is the total Protein supply quantity in Madagascar in 2015?"
   ]
  },
  {
   "cell_type": "code",
   "execution_count": 10,
   "id": "cca44656",
   "metadata": {},
   "outputs": [
    {
     "name": "stdout",
     "output_type": "stream",
     "text": [
      "The total Protein supply quantity in Madagascar in 2015 is 173.05 grams per capita per day\n"
     ]
    }
   ],
   "source": [
    "madagascar_2015 = df[(df['Area'] == 'Madagascar') & (df['Element'] == 'Protein supply quantity (g/capita/day)')]['Y2015'].sum()\n",
    "\n",
    "madagascar_2015_rounded = round(madagascar_2015, 2)\n",
    "\n",
    "print(f\"The total Protein supply quantity in Madagascar in 2015 is {madagascar_2015_rounded} grams per capita per day\")"
   ]
  },
  {
   "cell_type": "markdown",
   "id": "b96590fa",
   "metadata": {},
   "source": [
    "# Select columns ‘Y2017’ and ‘Area’, Perform a groupby operation on ‘Area’.  Which of these Areas had the 7th lowest sum in 2017?"
   ]
  },
  {
   "cell_type": "code",
   "execution_count": 11,
   "id": "7b04f15e",
   "metadata": {},
   "outputs": [
    {
     "name": "stdout",
     "output_type": "stream",
     "text": [
      "The area with the 7th lowest sum in 2017 is Guinea-Bissau\n"
     ]
    }
   ],
   "source": [
    "selected_columns = df[['Y2017', 'Area']]\n",
    "\n",
    "sums_2017 = selected_columns.groupby('Area')['Y2017'].sum()\n",
    "\n",
    "sorted_sums_2017 = sums_2017.sort_values().reset_index()\n",
    "\n",
    "seventh_lowest_area = sorted_sums_2017.iloc[6]['Area']\n",
    "\n",
    "print(f\"The area with the 7th lowest sum in 2017 is {seventh_lowest_area}\")"
   ]
  },
  {
   "cell_type": "markdown",
   "id": "0e09f56c",
   "metadata": {},
   "source": [
    "# Perform a groupby operation on ‘Element’.  What is the total number of the sum of Processing in 2017?"
   ]
  },
  {
   "cell_type": "code",
   "execution_count": 12,
   "id": "9f4b0860",
   "metadata": {},
   "outputs": [
    {
     "name": "stdout",
     "output_type": "stream",
     "text": [
      "The total sum of Processing in 2017 is 292836.0\n"
     ]
    }
   ],
   "source": [
    "processing_2017 = df[(df['Element'] == 'Processing')]['Y2017'].sum()\n",
    "\n",
    "print(f\"The total sum of Processing in 2017 is {processing_2017}\")"
   ]
  },
  {
   "cell_type": "code",
   "execution_count": null,
   "id": "d9a5aea6",
   "metadata": {},
   "outputs": [],
   "source": []
  }
 ],
 "metadata": {
  "kernelspec": {
   "display_name": "Python 3 (ipykernel)",
   "language": "python",
   "name": "python3"
  },
  "language_info": {
   "codemirror_mode": {
    "name": "ipython",
    "version": 3
   },
   "file_extension": ".py",
   "mimetype": "text/x-python",
   "name": "python",
   "nbconvert_exporter": "python",
   "pygments_lexer": "ipython3",
   "version": "3.9.12"
  }
 },
 "nbformat": 4,
 "nbformat_minor": 5
}
